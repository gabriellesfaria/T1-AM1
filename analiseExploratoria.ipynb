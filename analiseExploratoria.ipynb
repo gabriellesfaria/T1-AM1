{
  "nbformat": 4,
  "nbformat_minor": 0,
  "metadata": {
    "kernelspec": {
      "display_name": "Python 3",
      "language": "python",
      "name": "python3"
    },
    "language_info": {
      "codemirror_mode": {
        "name": "ipython",
        "version": 3
      },
      "file_extension": ".py",
      "mimetype": "text/x-python",
      "name": "python",
      "nbconvert_exporter": "python",
      "pygments_lexer": "ipython3",
      "version": "3.7.3"
    },
    "colab": {
      "name": "analiseExploratoria.ipynb",
      "provenance": [],
      "collapsed_sections": []
    }
  },
  "cells": [
    {
      "cell_type": "code",
      "metadata": {
        "colab": {
          "base_uri": "https://localhost:8080/",
          "height": 423
        },
        "id": "7p6L9zLP85XL",
        "outputId": "29d8cc6b-1f3e-4afa-a673-bdee88acc282"
      },
      "source": [
        "import pandas as pd \n",
        "import numpy as np\n",
        "from sklearn import tree, metrics\n",
        "from sklearn.model_selection import train_test_split\n",
        "\n",
        "\n",
        "iris = pd.read_csv('iris.data', header=None)\n",
        "\n",
        "iris.rename(columns={0:'sepala_altura',\n",
        "                     1:'sepala_largura',\n",
        "                     2:'petala_altura',\n",
        "                     3:'petala_largura',\n",
        "                     4:'classe'}, inplace=True)\n",
        "\n",
        "iris"
      ],
      "execution_count": 2,
      "outputs": [
        {
          "output_type": "execute_result",
          "data": {
            "text/html": [
              "<div>\n",
              "<style scoped>\n",
              "    .dataframe tbody tr th:only-of-type {\n",
              "        vertical-align: middle;\n",
              "    }\n",
              "\n",
              "    .dataframe tbody tr th {\n",
              "        vertical-align: top;\n",
              "    }\n",
              "\n",
              "    .dataframe thead th {\n",
              "        text-align: right;\n",
              "    }\n",
              "</style>\n",
              "<table border=\"1\" class=\"dataframe\">\n",
              "  <thead>\n",
              "    <tr style=\"text-align: right;\">\n",
              "      <th></th>\n",
              "      <th>sepala_altura</th>\n",
              "      <th>sepala_largura</th>\n",
              "      <th>petala_altura</th>\n",
              "      <th>petala_largura</th>\n",
              "      <th>classe</th>\n",
              "    </tr>\n",
              "  </thead>\n",
              "  <tbody>\n",
              "    <tr>\n",
              "      <th>0</th>\n",
              "      <td>5.1</td>\n",
              "      <td>3.5</td>\n",
              "      <td>1.4</td>\n",
              "      <td>0.2</td>\n",
              "      <td>Iris-setosa</td>\n",
              "    </tr>\n",
              "    <tr>\n",
              "      <th>1</th>\n",
              "      <td>4.9</td>\n",
              "      <td>3.0</td>\n",
              "      <td>1.4</td>\n",
              "      <td>0.2</td>\n",
              "      <td>Iris-setosa</td>\n",
              "    </tr>\n",
              "    <tr>\n",
              "      <th>2</th>\n",
              "      <td>4.7</td>\n",
              "      <td>3.2</td>\n",
              "      <td>1.3</td>\n",
              "      <td>0.2</td>\n",
              "      <td>Iris-setosa</td>\n",
              "    </tr>\n",
              "    <tr>\n",
              "      <th>3</th>\n",
              "      <td>4.6</td>\n",
              "      <td>3.1</td>\n",
              "      <td>1.5</td>\n",
              "      <td>0.2</td>\n",
              "      <td>Iris-setosa</td>\n",
              "    </tr>\n",
              "    <tr>\n",
              "      <th>4</th>\n",
              "      <td>5.0</td>\n",
              "      <td>3.6</td>\n",
              "      <td>1.4</td>\n",
              "      <td>0.2</td>\n",
              "      <td>Iris-setosa</td>\n",
              "    </tr>\n",
              "    <tr>\n",
              "      <th>...</th>\n",
              "      <td>...</td>\n",
              "      <td>...</td>\n",
              "      <td>...</td>\n",
              "      <td>...</td>\n",
              "      <td>...</td>\n",
              "    </tr>\n",
              "    <tr>\n",
              "      <th>145</th>\n",
              "      <td>6.7</td>\n",
              "      <td>3.0</td>\n",
              "      <td>5.2</td>\n",
              "      <td>2.3</td>\n",
              "      <td>Iris-virginica</td>\n",
              "    </tr>\n",
              "    <tr>\n",
              "      <th>146</th>\n",
              "      <td>6.3</td>\n",
              "      <td>2.5</td>\n",
              "      <td>5.0</td>\n",
              "      <td>1.9</td>\n",
              "      <td>Iris-virginica</td>\n",
              "    </tr>\n",
              "    <tr>\n",
              "      <th>147</th>\n",
              "      <td>6.5</td>\n",
              "      <td>3.0</td>\n",
              "      <td>5.2</td>\n",
              "      <td>2.0</td>\n",
              "      <td>Iris-virginica</td>\n",
              "    </tr>\n",
              "    <tr>\n",
              "      <th>148</th>\n",
              "      <td>6.2</td>\n",
              "      <td>3.4</td>\n",
              "      <td>5.4</td>\n",
              "      <td>2.3</td>\n",
              "      <td>Iris-virginica</td>\n",
              "    </tr>\n",
              "    <tr>\n",
              "      <th>149</th>\n",
              "      <td>5.9</td>\n",
              "      <td>3.0</td>\n",
              "      <td>5.1</td>\n",
              "      <td>1.8</td>\n",
              "      <td>Iris-virginica</td>\n",
              "    </tr>\n",
              "  </tbody>\n",
              "</table>\n",
              "<p>150 rows × 5 columns</p>\n",
              "</div>"
            ],
            "text/plain": [
              "     sepala_altura  sepala_largura  ...  petala_largura          classe\n",
              "0              5.1             3.5  ...             0.2     Iris-setosa\n",
              "1              4.9             3.0  ...             0.2     Iris-setosa\n",
              "2              4.7             3.2  ...             0.2     Iris-setosa\n",
              "3              4.6             3.1  ...             0.2     Iris-setosa\n",
              "4              5.0             3.6  ...             0.2     Iris-setosa\n",
              "..             ...             ...  ...             ...             ...\n",
              "145            6.7             3.0  ...             2.3  Iris-virginica\n",
              "146            6.3             2.5  ...             1.9  Iris-virginica\n",
              "147            6.5             3.0  ...             2.0  Iris-virginica\n",
              "148            6.2             3.4  ...             2.3  Iris-virginica\n",
              "149            5.9             3.0  ...             1.8  Iris-virginica\n",
              "\n",
              "[150 rows x 5 columns]"
            ]
          },
          "metadata": {},
          "execution_count": 2
        }
      ]
    },
    {
      "cell_type": "markdown",
      "metadata": {
        "id": "YVtqzkdEM1lR"
      },
      "source": [
        "## Checando se dataset é balanceado entre classes \n",
        "O dataset é balanceado, já que tem o mesmo número de dados por cada classe."
      ]
    },
    {
      "cell_type": "code",
      "metadata": {
        "colab": {
          "base_uri": "https://localhost:8080/"
        },
        "id": "Y_cGJsPlM0PU",
        "outputId": "55b660af-3181-4ecb-ff1f-3c352b411795"
      },
      "source": [
        "iris.classe.value_counts()\n"
      ],
      "execution_count": 81,
      "outputs": [
        {
          "output_type": "execute_result",
          "data": {
            "text/plain": [
              "Iris-virginica     50\n",
              "Iris-versicolor    50\n",
              "Iris-setosa        50\n",
              "Name: classe, dtype: int64"
            ]
          },
          "metadata": {},
          "execution_count": 81
        }
      ]
    },
    {
      "cell_type": "markdown",
      "metadata": {
        "id": "aOGPKYHGNL7Z"
      },
      "source": [
        "## Visualizando os dados por cada classe espacialmente\n",
        "Dois subplots que analisam separadamente a relação entre as classes e os tamanhos de sépalas e pétalas, marcando os dados com cores de acordo com seu tipo de flor."
      ]
    },
    {
      "cell_type": "code",
      "metadata": {
        "colab": {
          "base_uri": "https://localhost:8080/",
          "height": 372
        },
        "id": "V9pjJiv185XV",
        "outputId": "682383dd-ecd2-435f-a34a-fc3526b2dfcc"
      },
      "source": [
        "import numpy as np\n",
        "import matplotlib.pyplot as plt\n",
        "import matplotlib.patches as mpatches\n",
        "import matplotlib.pyplot as plt\n",
        "\n",
        "\n",
        "colors = iris.classe.replace({'Iris-setosa': 'purple',\n",
        "                            'Iris-versicolor': 'yellow', \n",
        "                            'Iris-virginica': 'green'})\n",
        "\n",
        "\n",
        "fig, (ax1, ax2)  = plt.subplots(1,2, figsize=(15, 5), sharex='all', sharey='all')\n",
        "\n",
        "sepala = ax1.scatter(iris.sepala_largura,iris.sepala_altura,\n",
        "                    c=colors, marker='.')\n",
        "\n",
        "ax1.title.set_text('Sépalas')\n",
        "ax1.grid(True)\n",
        "ax1.set_xlabel('Largura')\n",
        "ax2.set_ylabel('Altura')\n",
        "\n",
        "\n",
        "petala = ax2.scatter(iris.petala_largura, iris.petala_altura,\n",
        "                    c=colors, \n",
        "                    marker='x')\n",
        "ax2.title.set_text('Pétalas')\n",
        "\n",
        "fig.legend(handles=[mpatches.Patch(color='purple', label='Iris-setosa'),\n",
        "                    mpatches.Patch(color='yellow', label='Iris-versicolor'),\n",
        "                    mpatches.Patch(color='green', label='Iris-virginica')], \n",
        "           loc='upper right')\n",
        "ax2.grid(True, which='')\n",
        "ax1.set_xlabel('Largura')\n",
        "ax2.set_ylabel('Altura')\n",
        "\n",
        "plt.xlabel(\"Altura\")\n",
        "plt.ylabel(\"Largura\")\n",
        "\n",
        "plt.show()"
      ],
      "execution_count": 79,
      "outputs": [
        {
          "output_type": "display_data",
          "data": {
            "image/png": "[encoded data removed]",
            "text/plain": [
              "<Figure size 1080x360 with 2 Axes>"
            ]
          },
          "metadata": {
            "needs_background": "light"
          }
        }
      ]
    },
    {
      "cell_type": "code",
      "metadata": {
        "id": "4zQToG-t9nbP"
      },
      "source": [
        ""
      ],
      "execution_count": null,
      "outputs": []
    }
  ]
}